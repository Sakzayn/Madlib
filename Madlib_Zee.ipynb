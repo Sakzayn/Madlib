{
 "cells": [
  {
   "cell_type": "markdown",
   "metadata": {},
   "source": [
    "### MAD LIBS\n",
    "This is a word game where a player prompts others for a list of words to substitude for blanks in a story before reading it out loud\n"
   ]
  },
  {
   "cell_type": "code",
   "execution_count": 1,
   "metadata": {},
   "outputs": [
    {
     "name": "stdout",
     "output_type": "stream",
     "text": [
      "Preposition:because\n",
      "Article:a\n",
      "Noun:remedy\n",
      "Verb: feel\n",
      "Noun:Python\n",
      "Noun: MATLAB\n",
      "Adjective:basic\n",
      "Noun:exciting\n",
      "Noun:Intelligence\n",
      "Verb:Learning\n",
      "Adjective:some\n"
     ]
    }
   ],
   "source": [
    "#The following prompt words are a hint to what is expected in the blank spaces to make a sentence in Madlib\\n\",\n",
    "Preposition1= input(\"Preposition:\")\n",
    "Article1 = input(\"Article:\" )\n",
    "Noun1 = input('Noun:' )\n",
    "Verb1= input('Verb: ')\n",
    "Noun2 = input('Noun:' )\n",
    "Noun3 = input('Noun: ')\n",
    "Adj1 = input(\"Adjective:\")\n",
    "Noun4 = input('Noun:')\n",
    "Noun5 = input(\"Noun:\")\n",
    "Verb2 = input(\"Verb:\")\n",
    "Adj2 = input(\"Adjective:\")\n",
    "\n",
    "Madlib=f\"I decided to join this coding challenge {Preposition1} I have just gotten out of {Article1} bad situation.\\\n",
    "This is a form of {Noun1} to me to {Verb1} like myself all over again.I already have some experience coding with{Noun2}\\\n",
    "and {Noun3}, but I plan to start from really {Noun4} level.I also developed some really {Adj1} interest\\\n",
    "in Artificial {Noun5}, Machine and Deep {Verb2} for which I began taking {Adj2} Online courses\""
   ]
  },
  {
   "cell_type": "code",
   "execution_count": 2,
   "metadata": {},
   "outputs": [
    {
     "name": "stdout",
     "output_type": "stream",
     "text": [
      "I decided to join this coding challenge because I have just gotten out of a bad situation.This is a form of remedy to me to feel like myself all over again.I already have some experience coding withPythonand MATLAB, but I plan to start from really exciting level.I also developed some really basic interestin Artificial Intelligence, Machine and Deep Learning for which I began taking some Online courses\n"
     ]
    }
   ],
   "source": [
    "print(Madlib)"
   ]
  },
  {
   "cell_type": "code",
   "execution_count": null,
   "metadata": {},
   "outputs": [],
   "source": []
  }
 ],
 "metadata": {
  "kernelspec": {
   "display_name": "Python 3",
   "language": "python",
   "name": "python3"
  },
  "language_info": {
   "codemirror_mode": {
    "name": "ipython",
    "version": 3
   },
   "file_extension": ".py",
   "mimetype": "text/x-python",
   "name": "python",
   "nbconvert_exporter": "python",
   "pygments_lexer": "ipython3",
   "version": "3.7.10"
  }
 },
 "nbformat": 4,
 "nbformat_minor": 4
}
